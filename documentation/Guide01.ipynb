{
 "cells": [
  {
   "cell_type": "markdown",
   "metadata": {},
   "source": [
    "# Guide01\n",
    "\n",
    "## Introduction\n",
    "\n",
    "This guide explains how to obtain SpatialIDs within a certain distance of a given line. We'll review the following functions:\n",
    "- GetSpatialIdsWithinRadiusOfLine()\n",
    "- GetNspatialIdsAroundVoxcels()\n",
    "- FitClearanceAroundExtendedSpatialID()\n",
    "\n",
    "### External Data and License Notice\n",
    "This guide will use geodetic coordinates from [OpenStreetMap](openstreetmap.org/copyright); please note that the data is available under the Open Database License. Please refer to the link for more information. The following code is not part of OpenStreeMap; it's provided by Trajectory under the MIT license. Please feel free to learn and contribute!\n",
    "\n",
    "### About Jupyter Notebooks with Go\n",
    "\n",
    "This notebook uses [GoNB](https://github.com/janpfeifer/gonb) for the Go integration. Please see the repo for instruction on how to set it up so you can run this notebook yourself.\n",
    "\n",
    "As explained [here](https://github.com/janpfeifer/gonb/blob/main/examples/tutorial.ipynb), the `%%` shortcut is a feature of GoNB. It wraps subsequent code in a main() function that allows for things like a `fmt.Print()` call. If you're copying the code into a standard `.go` file, please exclude `%%`."
   ]
  },
  {
   "cell_type": "code",
   "execution_count": 1,
   "metadata": {},
   "outputs": [
    {
     "name": "stdout",
     "output_type": "stream",
     "text": [
      "Setup complete"
     ]
    }
   ],
   "source": [
    "// setup cell: import packages\n",
    "import (\n",
    "\t\"fmt\"\n",
    "\t\"math\"\n",
    "\t\"github.com/go-gl/mathgl/mgl64\"\n",
    "    coordinates \"github.com/trajectoryjp/geodesy_go/coordinates\"\n",
    "\tclosest \"github.com/trajectoryjp/closest_go\"\n",
    "\tgeodesy \"github.com/trajectoryjp/geodesy_go/coordinates\"\n",
    "\t\"github.com/trajectoryjp/spatial_id_go/v2/common/errors\"\n",
    "\t\"github.com/trajectoryjp/spatial_id_go/v2/common/object\"\n",
    "\t\"github.com/trajectoryjp/spatial_id_go/v2/shape\"\n",
    "\ttransform \"github.com/trajectoryjp/spatial_id_go/v2/transform\"\n",
    "\t\"github.com/janpfeifer/gonb/cache\"\n",
    ")\n",
    "\n",
    "%%\n",
    "fmt.Print(\"Setup complete\")\n"
   ]
  },
  {
   "cell_type": "markdown",
   "metadata": {},
   "source": [
    "## Part 1: Simple Use Case: GetSpatialIdsWithinRadiusOfLine()\n",
    "\n",
    "It's sakura season here in Japan -- which means there's no better time to learn about the inner workings of Spatial IDs! Let's go to a popular [hanami](https://en.wikipedia.org/wiki/Hanami) spot in Tokyo: [Yoyogi Park](https://en.wikipedia.org/wiki/Yoyogi_Park).\n",
    "\n",
    "Bringing a baseball is never a bad idea. But it's crowded.\n"
   ]
  },
  {
   "cell_type": "markdown",
   "metadata": {},
   "source": [
    "\n",
    "### Parameters\n",
    "\n",
    "Let's find a straight-line area where there aren't any people and find the Spatial IDs within 10 meters of that line. Let's take a look at the parameters we need to run `GetSpatialIdsWithinRadiusOfLine()`:\n",
    "- A startPoint in `*object.Point` format.\n",
    "- An endPoint in `*object.Point` format.\n",
    "- radius distance from the line as `float64`. We have our line from the dog park to the tree, but we want a \"buffer\" for throwing our baseball around this line. We're basically constructing a cylinder lengthwise; the radius parameter tells us how wide the cylinder is.\n",
    "- hZoom, or Horizontal Zoom as `int64`.\n",
    "- vZoom, or Vertical Zoom, as `int64`. These two zoom levels determine the size of the voxels, or \"boxes\", that we pick up along our line.\n",
    "- a boolean value indicating if we want to skip the measurement of each Spatial ID to the straight line. Indicating `false` will measure the closest distance of all returned voxels and decide, with micrometer precision, if the voxcel is within the radius distance of the line. `false` results in a slow, precision-priority function. `true` will skip this measurement routine and return Spatial ID voxels that are within radius distance, but will over-estimate: voxels within radius distance + at most 1 voxcel-distance margin of error will be returned. `false` is faster but will result in a larger prizm of resulting voxels that indicated by radius.\n",
    "\n",
    "\n",
    "Let's use the following points and parameters. PointA is by the dog park and pointB is under a tree.\n",
    "- startPoint = [longitude: 139.69441 degrees, latitude: 35.67269 degrees, altitude (from sea-level): 40 meters ]\n",
    "- endPoint = [longitude: 139.69516 degrees, latitude: 35.67157 degrees, altitude (from sea-level): 40 meters ]\n",
    "- radius = 10 meters\n",
    "- hZoom = level 25 (resutling voxel x-y distance of about 1.2 meters)\n",
    "- vZoom = level 25 (resulting voxcel height of about 1 meter) \n",
    "- skipsMeasurement = false (for now!)\n",
    "\n",
    "Note: See the [Spatial ID Guide](spatialID.md) for more detailed information on Zoom Levels"
   ]
  },
  {
   "cell_type": "markdown",
   "metadata": {},
   "source": [
    "### Code \n",
    "First we declare our points as `*object.Point`, and then run `GetSpatialIdsWithinRadiusOfLine()`"
   ]
  },
  {
   "cell_type": "code",
   "execution_count": 2,
   "metadata": {},
   "outputs": [
    {
     "name": "stdout",
     "output_type": "stream",
     "text": [
      "pointA: {139.69441 35.67269 40}\n",
      "pointB: {139.69516 35.67157 40}\n",
      "Distance from A to B: 141.93 meters\n",
      "We found 82547 Spatial IDs!\n",
      "Extended Spatial IDs within 10 meters of the line between pointA and pointB above"
     ]
    }
   ],
   "source": [
    "var (\n",
    "\tpointA *object.Point\n",
    "\tpointB *object.Point\n",
    ") \n",
    "\n",
    "\n",
    "%%\n",
    "pointA, error := object.NewPoint(139.69441, 35.67269, 40)\n",
    "if error != nil {\n",
    "\tfmt.Print(error)\n",
    "\t}\n",
    "pointB, error := object.NewPoint(139.69516, 35.67157, 40)\n",
    "if error != nil {\n",
    "\tfmt.Print(error)\n",
    "}\n",
    "\n",
    "// distance between points A and B:\n",
    "distance := coordinates.Spherical(\n",
    "\tcoordinates.Geodetic{\n",
    "\t\tpointA.Lon(),\n",
    "\t\tpointA.Lat(),\n",
    "\t\tpointA.Alt(),\n",
    "\t},\n",
    ").GetLengthTo(\n",
    "\tcoordinates.Spherical(\n",
    "\t\tcoordinates.Geodetic{\n",
    "\t\t\tpointB.Lon(),\n",
    "\t\t\tpointB.Lat(),\n",
    "\t\t\tpointB.Alt(),\n",
    "\t\t},\n",
    "\t),\n",
    ")\n",
    "\n",
    "fmt.Printf(\"pointA: %v\\npointB: %v\\nDistance from A to B: %.2f meters\", *pointA, *pointB, distance)\n",
    "\n",
    "idsWithinRadiusOfLine, error := transform.GetSpatialIdsWithinRadiusOfLine(\n",
    "\tpointA, // startPoint\n",
    "\tpointB, // endPoint\n",
    "\t10,     // radius (in meters)\n",
    "\t25,     // hZoom\n",
    "\t25,     // vZoom\n",
    "\tfalse,   // skipsMeasurement\n",
    ")\n",
    "if error != nil {\n",
    "\tfmt.Print(error)\n",
    "}\n",
    "\n",
    "fmt.Printf(\"\\nWe found %v Spatial IDs!\\nExtended Spatial IDs within 10 meters of the line between pointA and pointB above\", len(idsWithinRadiusOfLine))\n"
   ]
  },
  {
   "cell_type": "markdown",
   "metadata": {},
   "source": [
    "Woah, that's a lot of IDs. But now we have a comfortably-large 3D space to enjoy our game of catch without disturbing the other hanami-goers! It's about 141 meters long with a radius of 10 meters."
   ]
  },
  {
   "cell_type": "markdown",
   "metadata": {},
   "source": [
    "## Part 2: Speed Tests\n",
    "\n",
    "All parameters affect the speed of `GetSpatialIdsWithinRadiusOfLine()`. Conceptually, the calculation time increases:\n",
    "- As the distance between the two points increases\n",
    "- As the radius increases\n",
    "- As the size of the voxels decreases (or as zoom levels increase)\n",
    "- if `skipsMeasurement` is false\n"
   ]
  },
  {
   "cell_type": "markdown",
   "metadata": {},
   "source": [
    "### Comparing `skipsMeasurement`\n",
    "Let's time the previous test, where the distance between points A and B is about 140 meters."
   ]
  },
  {
   "cell_type": "code",
   "execution_count": 3,
   "metadata": {},
   "outputs": [
    {
     "name": "stdout",
     "output_type": "stream",
     "text": [
      "Number of Ids returned: 82547\n",
      "\n",
      "Result:\n",
      "       1\t2262460355 ns/op\n",
      "(2262460355 nanoseconds = 2.262 seconds)"
     ]
    }
   ],
   "source": [
    "func Benchmark_measure(b *testing.B) {\n",
    "\n",
    "\tpointA, error := object.NewPoint(139.69441, 35.67269, 40)\n",
    "\tif error != nil {\n",
    "\t\tb.Fatal(error)\n",
    "\t}\n",
    "\tpointB, error := object.NewPoint(139.69516, 35.67157, 40)\n",
    "\tif error != nil {\n",
    "\t\tb.Fatal(error)\n",
    "\t}\n",
    "\tidsWithinRadiusOfLine, error := transform.GetSpatialIdsWithinRadiusOfLine(\n",
    "\t\tpointA,\n",
    "\t\tpointB,\n",
    "\t\t10,     // radius (in meters)\n",
    "\t\t25,     // hZoom\n",
    "\t\t25,     // vZoom\n",
    "\t\tfalse,   // skipsMeasurement\n",
    "\t)\n",
    "\tif error != nil {\n",
    "\t\tb.Fatal(error)\n",
    "\t}\n",
    "\tfmt.Printf(\"Number of Ids returned: %v\\n\", len(idsWithinRadiusOfLine))\n",
    "}\n",
    "%%\n",
    "result := testing.Benchmark(Benchmark_measure)\n",
    "fmt.Printf(\"\\nResult:\\n%v\", result)\n",
    "fmt.Printf(\"\\n(%v nanoseconds = %.3f seconds)\",result.NsPerOp(), time.Duration(result.NsPerOp()).Seconds())"
   ]
  },
  {
   "cell_type": "markdown",
   "metadata": {},
   "source": [
    "Now let's benchmark the same test, but without precision measurement. Now `skipsMeasurement=true`"
   ]
  },
  {
   "cell_type": "code",
   "execution_count": 4,
   "metadata": {},
   "outputs": [
    {
     "name": "stdout",
     "output_type": "stream",
     "text": [
      "Number of Ids returned: 117438\n",
      "\n",
      "Result:\n",
      "       1\t1616637750 ns/op\n",
      "(1616637750 nanoseconds = 1.617 seconds)"
     ]
    }
   ],
   "source": [
    "func Benchmark_skipsMeasure(b *testing.B) {\n",
    "\n",
    "\tpointA, error := object.NewPoint(139.69441, 35.67269, 40)\n",
    "\tif error != nil {\n",
    "\t\tb.Fatal(error)\n",
    "\t}\n",
    "\tpointB, error := object.NewPoint(139.69516, 35.67157, 40)\n",
    "\tif error != nil {\n",
    "\t\tb.Fatal(error)\n",
    "\t}\n",
    "\tidsWithinRadiusOfLine, error := transform.GetSpatialIdsWithinRadiusOfLine(\n",
    "\t\tpointA,\n",
    "\t\tpointB,\n",
    "\t\t10,     // radius (in meters)\n",
    "\t\t25,     // hZoom\n",
    "\t\t25,     // vZoom\n",
    "\t\ttrue,   // skipsMeasurement\n",
    "\t)\n",
    "\tif error != nil {\n",
    "\t\tb.Fatal(error)\n",
    "\t}\n",
    "\tfmt.Printf(\"Number of Ids returned: %v\\n\", len(idsWithinRadiusOfLine))\n",
    "}\n",
    "// %test -test.bench=Benchmark_skipsMeasure -test.run=Bechmark\n",
    "%%\n",
    "result := testing.Benchmark(Benchmark_skipsMeasure)\n",
    "fmt.Printf(\"\\nResult:\\n%v\", result)\n",
    "fmt.Printf(\"\\n(%v nanoseconds = %.3f seconds)\",result.NsPerOp(), time.Duration(result.NsPerOp()).Seconds())"
   ]
  },
  {
   "cell_type": "markdown",
   "metadata": {},
   "source": [
    "At the same distance as our first benchmark with `skipsMeasure=true`, the function returns more Spatial IDs, but does so in about 2/3 the time."
   ]
  },
  {
   "cell_type": "markdown",
   "metadata": {},
   "source": [
    "### Comparing Radius\n",
    "Let's reduce the radius in half to 5 meters and compare\n"
   ]
  },
  {
   "cell_type": "code",
   "execution_count": 5,
   "metadata": {},
   "outputs": [
    {
     "name": "stdout",
     "output_type": "stream",
     "text": [
      "Number of Ids returned: 27195\n",
      "Number of Ids returned: 23569\n",
      "Number of Ids returned: 23569\n",
      "Number of Ids returned: 27195\n",
      "Number of Ids returned: 23569\n",
      "Number of Ids returned: 23569\n",
      "Number of Ids returned: 23569\n",
      "Number of Ids returned: 23569\n",
      "Number of Ids returned: 23569\n",
      "Number of Ids returned: 23569\n",
      "Number of Ids returned: 23569\n",
      "Number of Ids returned: 23569\n",
      "Number of Ids returned: 23569\n",
      "Number of Ids returned: 23569\n",
      "Number of Ids returned: 23569\n",
      "Number of Ids returned: 23569\n",
      "Number of Ids returned: 23569\n",
      "Number of Ids returned: 23569\n",
      "Number of Ids returned: 23569\n",
      "Number of Ids returned: 23569\n",
      "Number of Ids returned: 23569\n",
      "Number of Ids returned: 23569\n",
      "Number of Ids returned: 23569\n",
      "Number of Ids returned: 23569\n",
      "Number of Ids returned: 27195\n",
      "\n",
      "Result:\n",
      "1000000000\t         0.5397 ns/op"
     ]
    }
   ],
   "source": [
    "func Benchmark_radius(b *testing.B) {\n",
    "\n",
    "\tpointA, error := object.NewPoint(139.69441, 35.67269, 40)\n",
    "\tif error != nil {\n",
    "\t\tb.Fatal(error)\n",
    "\t}\n",
    "\tpointB, error := object.NewPoint(139.69516, 35.67157, 40)\n",
    "\tif error != nil {\n",
    "\t\tb.Fatal(error)\n",
    "\t}\n",
    "\tidsWithinRadiusOfLine, error := transform.GetSpatialIdsWithinRadiusOfLine(\n",
    "\t\tpointA,\n",
    "\t\tpointB,\n",
    "\t\t5,     // radius (in meters)\n",
    "\t\t25,     // hZoom\n",
    "\t\t25,     // vZoom\n",
    "\t\tfalse,   // skipsMeasurement\n",
    "\t)\n",
    "\tif error != nil {\n",
    "\t\tb.Fatal(error)\n",
    "\t}\n",
    "\tfmt.Printf(\"Number of Ids returned: %v\\n\", len(idsWithinRadiusOfLine))\n",
    "}\n",
    "// %test -test.bench=Benchmark_radius -test.run=Bechmark\n",
    "%%\n",
    "result := testing.Benchmark(Benchmark_radius)\n",
    "fmt.Printf(\"\\nResult:\\n%v\", result)"
   ]
  },
  {
   "cell_type": "markdown",
   "metadata": {},
   "source": [
    "Reducing the radius by half decreases the average calculation time by more than half."
   ]
  },
  {
   "cell_type": "markdown",
   "metadata": {},
   "source": [
    "### Comparing Zoom Level\n",
    "Even if we decrease the Zoom Level by just one, the speed increases noticeably. Zoom Level 24 results in [about a 2.4m x 2.4m x 2m voxel](https://www.ipa.go.jp/digital/architecture/Individual-link/nq6ept000000g0fh-att/4dspatio-temporal-guideline-gamma.pdf)"
   ]
  },
  {
   "cell_type": "code",
   "execution_count": 6,
   "metadata": {},
   "outputs": [
    {
     "name": "stdout",
     "output_type": "stream",
     "text": [
      "Number of Ids returned: 12454\n",
      "Number of Ids returned: 12454\n",
      "Number of Ids returned: 12454\n",
      "Number of Ids returned: 12454\n",
      "Number of Ids returned: 12454\n",
      "Number of Ids returned: 12454\n",
      "Number of Ids returned: 12454\n",
      "Number of Ids returned: 12454\n",
      "Number of Ids returned: 12454\n",
      "Number of Ids returned: 12454\n",
      "Number of Ids returned: 12454\n",
      "Number of Ids returned: 12454\n",
      "Number of Ids returned: 12454\n",
      "Number of Ids returned: 12454\n",
      "Number of Ids returned: 12454\n",
      "\n",
      "Result:\n",
      "1000000000\t         0.2341 ns/op"
     ]
    }
   ],
   "source": [
    "func Benchmark_zoomLevel(b *testing.B) {\n",
    "\n",
    "\tpointA, error := object.NewPoint(139.69441, 35.67269, 40)\n",
    "\tif error != nil {\n",
    "\t\tb.Fatal(error)\n",
    "\t}\n",
    "\tpointB, error := object.NewPoint(139.69516, 35.67157, 40)\n",
    "\tif error != nil {\n",
    "\t\tb.Fatal(error)\n",
    "\t}\n",
    "\tidsWithinRadiusOfLine, error := transform.GetSpatialIdsWithinRadiusOfLine(\n",
    "\t\tpointA,\n",
    "\t\tpointB,\n",
    "\t\t10,     // radius (in meters)\n",
    "\t\t24,     // hZoom\n",
    "\t\t24,     // vZoom\n",
    "\t\tfalse,   // skipsMeasurement\n",
    "\t)\n",
    "\tif error != nil {\n",
    "\t\tb.Fatal(error)\n",
    "\t}\n",
    "\tfmt.Printf(\"Number of Ids returned: %v\\n\", len(idsWithinRadiusOfLine))\n",
    "}\n",
    "// %test\n",
    "%%\n",
    "result := testing.Benchmark(Benchmark_zoomLevel)\n",
    "fmt.Printf(\"\\nResult:\\n%v\", result)\n"
   ]
  },
  {
   "cell_type": "markdown",
   "metadata": {},
   "source": [
    "As we can see, by decreasing the zoom level by just one level, we increase the voxel size and the decrease the calculation time by about half compared to the previous test."
   ]
  }
 ],
 "metadata": {
  "kernelspec": {
   "display_name": "Go (gonb)",
   "language": "go",
   "name": "gonb"
  },
  "language_info": {
   "codemirror_mode": "",
   "file_extension": ".go",
   "mimetype": "",
   "name": "go",
   "nbconvert_exporter": "",
   "pygments_lexer": "",
   "version": "go1.20.8"
  }
 },
 "nbformat": 4,
 "nbformat_minor": 2
}
