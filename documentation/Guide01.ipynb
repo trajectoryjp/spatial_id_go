{
 "cells": [
  {
   "cell_type": "markdown",
   "metadata": {},
   "source": [
    "# Guide01\n",
    "\n",
    "## Introduction\n",
    "\n",
    "This guide explains how to obtain SpatialIDs within a certain distance of a given line. We'll review the following functions:\n",
    "- GetSpatialIdsWithinRadiusOfLine()\n",
    "- GetNspatialIdsAroundVoxcels()\n",
    "- FitClearanceAroundExtendedSpatialID()\n",
    "\n",
    "### External Data and License Notice\n",
    "This guide will use geodetic coordinates from [OpenStreetMap](openstreetmap.org/copyright); please note that the data is available under the Open Database License. Please refer to the link for more information. The following code is not part of OpenStreeMap; it's provided by Trajectory under the MIT license. Please feel free to learn and contribute!\n",
    "\n",
    "### About Jupyter Notebooks with Go\n",
    "\n",
    "This notebook uses [GoNB](https://github.com/janpfeifer/gonb) for the Go integration. Please see the repo for instruction on how to set it up so you can run this notebook yourself.\n",
    "\n",
    "As explained [here](https://github.com/janpfeifer/gonb/blob/main/examples/tutorial.ipynb), the `%%` shortcut is a feature of GoNB. It wraps subsequent code in a main() function that allows for things like a `fmt.Print()` call. If you're copying the code into a standard `.go` file, please exclude `%%`."
   ]
  },
  {
   "cell_type": "code",
   "execution_count": 17,
   "metadata": {},
   "outputs": [
    {
     "name": "stdout",
     "output_type": "stream",
     "text": [
      "Setup complete"
     ]
    }
   ],
   "source": [
    "// setup cell: import packages\n",
    "import (\n",
    "\t\"fmt\"\n",
    "\t\"math\"\n",
    "\t\"github.com/go-gl/mathgl/mgl64\"\n",
    "    \"github.com/trajectoryjp/geodesy_go/coordinates\"\n",
    "\tclosest \"github.com/trajectoryjp/closest_go\"\n",
    "\tgeodesy \"github.com/trajectoryjp/geodesy_go/coordinates\"\n",
    "\t\"github.com/trajectoryjp/spatial_id_go/v2/common/errors\"\n",
    "\t\"github.com/trajectoryjp/spatial_id_go/v2/common/object\"\n",
    "\t\"github.com/trajectoryjp/spatial_id_go/v2/shape\"\n",
    "\t\n",
    ")\n",
    "\n",
    "%%\n",
    "fmt.Print(\"Setup complete\")\n"
   ]
  },
  {
   "cell_type": "markdown",
   "metadata": {},
   "source": [
    "## Part 1: Simple Use Case\n",
    "\n",
    "It's sakura season here in Japan -- which means there's no better time to learn about the inner workings of SpatialIDs! Let's go to a popular [hanami](https://en.wikipedia.org/wiki/Hanami) spot in Tokyo: [Yoyogi Park](https://en.wikipedia.org/wiki/Yoyogi_Park).\n",
    "\n",
    "Bringing a baseball is never a bad idea. But it's crowded. Let's find a straight-line area where there aren't any people.\n",
    "\n",
    "First we use `object.NewPoint()` to declare our two points.\n"
   ]
  },
  {
   "cell_type": "code",
   "execution_count": 25,
   "metadata": {},
   "outputs": [
    {
     "name": "stdout",
     "output_type": "stream",
     "text": [
      "pointA: {139.69441 35.67269 0}\n",
      "pointB: {139.69516 35.67157 0}"
     ]
    }
   ],
   "source": [
    "var (\n",
    "\tpointA *object.Point\n",
    "\tpointB *object.Point\n",
    "\terror error\n",
    ") \n",
    "\n",
    "\n",
    "%%\n",
    "pointA, error := object.NewPoint(139.69441, 35.67269, 0)\n",
    "if error != nil {\n",
    "\tfmt.Print(error)\n",
    "\t}\n",
    "pointB, error := object.NewPoint(139.69516, 35.67157, 0)\n",
    "if error != nil {\n",
    "\tfmt.Print(error)\n",
    "}\n",
    "\n",
    "fmt.Printf(\"pointA: %v\\npointB: %v\", *pointA, *pointB)"
   ]
  },
  {
   "cell_type": "markdown",
   "metadata": {},
   "source": []
  }
 ],
 "metadata": {
  "kernelspec": {
   "display_name": "Go (gonb)",
   "language": "go",
   "name": "gonb"
  },
  "language_info": {
   "codemirror_mode": "",
   "file_extension": ".go",
   "mimetype": "",
   "name": "go",
   "nbconvert_exporter": "",
   "pygments_lexer": "",
   "version": "go1.20.8"
  }
 },
 "nbformat": 4,
 "nbformat_minor": 2
}
